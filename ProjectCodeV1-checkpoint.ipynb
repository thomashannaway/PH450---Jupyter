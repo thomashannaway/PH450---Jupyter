{
 "cells": [
  {
   "cell_type": "markdown",
   "metadata": {},
   "source": [
    "# Plan"
   ]
  },
  {
   "cell_type": "markdown",
   "metadata": {},
   "source": [
    "1. complete functions - TO COMPLETE\n",
    "2. change variables in functions that are found in 'arg =' file - DONE\n",
    "3. improve readablilty (add spaces between maths) - DONE\n",
    "4. write solver to solve odes.  -TO COMPLETE "
   ]
  },
  {
   "cell_type": "markdown",
   "metadata": {},
   "source": [
    "# Imports"
   ]
  },
  {
   "cell_type": "code",
   "execution_count": 45,
   "metadata": {},
   "outputs": [],
   "source": [
    "import numpy as np\n",
    "from scipy.integrate import odeint\n",
    "#from math import sqrt, pi, log\n",
    "from numpy import linalg as LA\n",
    "import matplotlib.pyplot as plt\n",
    "\n"
   ]
  },
  {
   "cell_type": "markdown",
   "metadata": {},
   "source": [
    "# Environment Set Up"
   ]
  },
  {
   "cell_type": "code",
   "execution_count": 53,
   "metadata": {},
   "outputs": [
    {
     "name": "stdout",
     "output_type": "stream",
     "text": [
      "395.840674352314\n"
     ]
    }
   ],
   "source": [
    "\n",
    "Delta = 0.2*2*np.pi #Delta is sheath width/thickness\n",
    "Rb0    = 0.28*2*np.pi #initial conditions\n",
    "dRb0   = 0 # \n",
    "\n",
    "xi_0   = 0 # initial conditions for RHS\n",
    "xi_max = -2.25*Rb0 #max intrgration limits\n",
    "dxi = -0.01 # size of integration steps\n",
    "steps = xi_max/dxi # number of steps needed to achieve dxi \n",
    "print(steps)\n",
    "xi_inj  = 0 #found in load_arg \n",
    "xi_tr   = 0 #found in load_arg / what is this?\n",
    "\n",
    "n     = 0 # found in load_arg / what is this?\n",
    "rc    = 0 #0.5*2*pi\n",
    "rB    = rc/2 # half of rc\n",
    "\n",
    "E_inj = 0   \n",
    "rhoC  = 0 \n",
    "dE    = 0 \n",
    "\n",
    "gammaB = 10000\n",
    "epsB   = 1/gammaB**2\n",
    "vB     = np.sqrt(1-epsB)\n",
    "\n",
    "lamb_fac = 0"
   ]
  },
  {
   "cell_type": "code",
   "execution_count": 54,
   "metadata": {
    "scrolled": true
   },
   "outputs": [],
   "source": [
    "arg = {'Delta': Delta, 'n' : n, 'rc' : rc, 'rhoC' : rhoC, 'Rb' : Rb, 'E_inj' : E_inj, \n",
    "       'dE': dE, 'xi_tr' : xi_tr, 'xi_inj' : xi_inj, 'lamb_fac' : lamb_fac }\n",
    "#arg['rhoC']\n",
    "#stores arguments in dictionary"
   ]
  },
  {
   "cell_type": "code",
   "execution_count": 5,
   "metadata": {},
   "outputs": [],
   "source": [
    "arg_part = {'Delta': Delta, 'n' : n, 'rc' : rc, 'rhoC' : rhoC, 'Rb' : Rb, 'E_inj' : E_inj, \n",
    "       'dE': dE, 'xi_tr' : xi_tr, 'xi_inj' : xi_inj, 'dt' : 0, 'En' : 0, 'L' : 0, 'vB' : 0}\n",
    "#stores arguments in dictionary"
   ]
  },
  {
   "cell_type": "markdown",
   "metadata": {},
   "source": [
    "# Key Functions"
   ]
  },
  {
   "cell_type": "code",
   "execution_count": 20,
   "metadata": {},
   "outputs": [],
   "source": [
    "def int_rho(r,arg):\n",
    "        INT_RHO = arg['rhoC'] * arg['rc']**2 / 2 + 1 * ((np.power(r, 2)) - arg['rc']**2) / 2  # what is rhoC ?\n",
    "\n",
    "#Conditional assignment in python (boolean)\n",
    "#What is inside INT_RHO?\n",
    "#    if INT_RHO(r<rc):\n",
    "#INT_RHO(r<rc) = rhoC *r(r<rc)**2 / 2\n",
    "#INT_RHO(r<rc) = rhoC*r(r<rc).^2/2;\n",
    "#return INT_RHO\n",
    "#for i in INT_RHO:\n",
    "#   if r<rc:\n",
    "#        INT_RHO = rhoC * r(r<rc).^2/2\n"
   ]
  },
  {
   "cell_type": "code",
   "execution_count": 21,
   "metadata": {},
   "outputs": [],
   "source": [
    "def rho(r,arg):\n",
    "        RHO = np.ones(r)\n",
    "        \n",
    "#end func\n",
    "#conditional assignment\n",
    "#RHO(r<rc) = rhoC; for every element r<rc set equal to rhoC? "
   ]
  },
  {
   "cell_type": "code",
   "execution_count": 34,
   "metadata": {},
   "outputs": [
    {
     "data": {
      "text/plain": [
       "\"   \\nfor i in DRHO:\\n    if r < arg['rc']:\\n        DRHO[i] = 0\\nprint(DRHO)\\n    # conditional assignment here\\n    #else r<arg['rc']:\\n    #    DHR0=....\\n    \\n    #return DRHO\\n\""
      ]
     },
     "execution_count": 34,
     "metadata": {},
     "output_type": "execute_result"
    }
   ],
   "source": [
    "def drho(r):\n",
    "    #drho~nr^(n-1) | drho(r<rc)=0\n",
    "    DRHO = np.zeros(r.shape)   \n",
    "'''   \n",
    "for i in DRHO:\n",
    "    if r < arg['rc']:\n",
    "        DRHO[i] = 0\n",
    "print(DRHO)\n",
    "    # conditional assignment here\n",
    "    #else r<arg['rc']:\n",
    "    #    DHR0=....\n",
    "    \n",
    "    #return DRHO\n",
    "'''"
   ]
  },
  {
   "cell_type": "code",
   "execution_count": 41,
   "metadata": {},
   "outputs": [],
   "source": [
    "#function dY = RHS_particle(t,Y0,arg_part)\n",
    "def dY(t,y0,arg_part):\n",
    "    xi = Y0[0] \n",
    "    y = Y0[1]\n",
    "    z = Y0[2]\n",
    "\n",
    "    p0 = Y0[3:7] #select 3rd to 6th element\n",
    "    gamma = np.sqrt(1+ np.linalg.norm(p0)**2)\n",
    "\n",
    "    #arg_part = {'Delta': Delta, 'n' : n, 'rc' : rc, 'rhoC' : rhoC, 'Rb' : Rb, 'E_inj' : E_inj, \n",
    "     #  'dE': dE, 'xi_tr' : xi_tr, 'xi_inj' : xi_inj, 'dt' : 0, 'En' : 0, 'L' : 0, 'vB' : 0}\n",
    "#load_arg_part\n",
    "\n",
    "    E[0] = arg_part['En']*xi*(1-xi/c)**(-1/3)\n",
    "    B[0] = 0\n",
    "    B[1] =  arg_part['En']*z/2*(1-xi/arg_part['L'])**(-1/3)*(3*arg_part['L'] -2*xi)/(3*arg_part['L'] -3*xi)\n",
    "    B[2] = -arg_part['En']*y/2*(1-xi/arg_part['L'])**(-1/3)*(3*arg_part['L'] -2*xi)/(3*arg_part['L'] -3*xi)\n",
    "    E[3] = y/2 +B[2]\n",
    "    E[4] = z/2 -B[1]\n",
    "\n",
    "#transpose operator (see end of matrix) produces a complex-conjugate transpose for complex numbers.\n",
    "    \n",
    "    dr = p0/gamma - arg_part['vB']*np.transpose([1, 0, 0]) #row vector (100) transposed, so now col vec.\n",
    "    dp = -np.transpose(E) - 1 / gamma * np.cross(p0,np.transpose(B))\n",
    "\n",
    "    dY[0:2,0] = dr\n",
    "    dY[3:5,0] = dp #%the coloumn vector of 4th to 6th element in 1st coloumn"
   ]
  },
  {
   "cell_type": "code",
   "execution_count": 99,
   "metadata": {
    "scrolled": false
   },
   "outputs": [],
   "source": [
    "def model(rb, xi):\n",
    "    \n",
    "    dsi = 1\n",
    "    si = 1\n",
    "    SI = 1\n",
    "    \n",
    "    eps = arg['Delta']/rb #eq5\n",
    "    X = 1 + eps #used in eq 12 + 13\n",
    "    dX = -(X-1)**2 / arg['Delta'] #for use in eq 33\n",
    "    ddX = -2*(X-1) * dX / arg['Delta'] #for use in eq 33\n",
    "\n",
    "    delta = X**2/(X**2 - 1)\n",
    "    ddelta = -2*X*dX/(X**2-1)**2\n",
    "    dddelta = -2 * dX**2 / (X**2-1)**2 -2*X*ddX/(X**2-1)**2 +8*X**2*dX**2/(X**2-1)**3\n",
    "\n",
    "    beta = 2*delta*np.log(X) -1\n",
    "    dbeta = 2*ddelta*np.log(X) +2*delta*dX/X\n",
    "    ddbeta = 2*dddelta*np.log(X) +4*ddelta*dX/X -2*delta*dX**2/X**2 +2*delta*ddX/X\n",
    "\n",
    "    A = (1 +SI/2)*rb +(si*rb**2/4 +SI/2)*rb*beta +SI*rb**2/4*dbeta\n",
    "    B = si*rb**2/2 +(3*si*rb +dsi*rb**2)*rb*beta/4 +(SI +si*rb**2)*rb*dbeta/2 +SI*rb**2*ddbeta/4\n",
    "    C = SI/2*(1 +1/(1 +SI*beta/2)**2)\n",
    "\n",
    "    Lambda = 0\n",
    "    \n",
    "    SUB = 0\n",
    "    DSUB = (Lambda - B * SUB**2 - C) / A\n",
    "    SUB, DSUB = rb\n",
    "    derivatives = [SUB, DSUB]\n",
    "    return derivatives"
   ]
  },
  {
   "cell_type": "markdown",
   "metadata": {},
   "source": [
    "# Main Codeflow"
   ]
  },
  {
   "cell_type": "code",
   "execution_count": 112,
   "metadata": {},
   "outputs": [
    {
     "name": "stdout",
     "output_type": "stream",
     "text": [
      "[0. 0. 0. 0. 0. 0. 0. 0. 0. 0. 0. 0. 0. 0. 0. 0. 0. 0. 0. 0. 0. 0. 0. 0.\n",
      " 0. 0. 0. 0. 0. 0. 0. 0. 0. 0. 0. 0. 0. 0. 0. 0. 0. 0. 0. 0. 0. 0. 0. 0.\n",
      " 0. 0. 0. 0. 0. 0. 0. 0. 0. 0. 0. 0. 0. 0. 0. 0. 0. 0. 0. 0. 0. 0. 0. 0.\n",
      " 0. 0. 0. 0. 0. 0. 0. 0. 0. 0. 0. 0. 0. 0. 0. 0. 0. 0. 0. 0. 0. 0. 0. 0.\n",
      " 0. 0. 0. 0. 0. 0. 0. 0. 0. 0. 0. 0. 0. 0. 0. 0. 0. 0. 0. 0. 0. 0. 0. 0.\n",
      " 0. 0. 0. 0. 0. 0. 0. 0. 0. 0. 0. 0. 0. 0. 0. 0. 0. 0. 0. 0. 0. 0. 0. 0.\n",
      " 0. 0. 0. 0. 0. 0. 0. 0. 0. 0. 0. 0. 0. 0. 0. 0. 0. 0. 0. 0. 0. 0. 0. 0.\n",
      " 0. 0. 0. 0. 0. 0. 0. 0. 0. 0. 0. 0. 0. 0. 0. 0. 0. 0. 0. 0. 0. 0. 0. 0.\n",
      " 0. 0. 0. 0. 0. 0. 0. 0. 0. 0. 0. 0. 0. 0. 0. 0. 0. 0. 0. 0. 0. 0. 0. 0.\n",
      " 0. 0. 0. 0. 0. 0. 0. 0. 0. 0. 0. 0. 0. 0. 0. 0. 0. 0. 0. 0. 0. 0. 0. 0.\n",
      " 0. 0. 0. 0. 0. 0. 0. 0. 0. 0. 0. 0. 0. 0. 0. 0. 0. 0. 0. 0. 0. 0. 0. 0.\n",
      " 0. 0. 0. 0. 0. 0. 0. 0. 0. 0. 0. 0. 0. 0. 0. 0. 0. 0. 0. 0. 0. 0. 0. 0.\n",
      " 0. 0. 0. 0. 0. 0. 0. 0. 0. 0. 0. 0. 0. 0. 0. 0. 0. 0. 0. 0. 0. 0. 0. 0.\n",
      " 0. 0. 0. 0. 0. 0. 0. 0. 0. 0. 0. 0. 0. 0. 0. 0. 0. 0. 0. 0. 0. 0. 0. 0.\n",
      " 0. 0. 0. 0. 0. 0. 0. 0. 0. 0. 0. 0. 0. 0. 0. 0. 0. 0. 0. 0. 0. 0. 0. 0.\n",
      " 0. 0. 0. 0. 0. 0. 0. 0. 0. 0. 0. 0. 0. 0. 0. 0. 0. 0. 0. 0. 0. 0. 0. 0.\n",
      " 0. 0. 0. 0. 0. 0. 0. 0. 0. 0. 0.]\n",
      "[1.75929189 1.74170526 1.72429444 1.70705772 1.68999326 1.67309938\n",
      " 1.65637439 1.63981658 1.62342429 1.60719586 1.59112965 1.57522406\n",
      " 1.55947745 1.54388826 1.52845491 1.51317583 1.4980495  1.48307437\n",
      " 1.46824894 1.45357171 1.4390412  1.42465594 1.41041448 1.39631539\n",
      " 1.38235723 1.3685386  1.35485811 1.34131437 1.32790602 1.31463171\n",
      " 1.3014901  1.28847986 1.27559968 1.26284825 1.2502243  1.23772655\n",
      " 1.22535373 1.21310459 1.2009779  1.18897243 1.17708697 1.16532032\n",
      " 1.15367129 1.1421387  1.1307214  1.11941823 1.10822806 1.09714975\n",
      " 1.08618218 1.07532425 1.06457486 1.05393293 1.04339738 1.03296714\n",
      " 1.02264117 1.01241842 1.00229786 0.99227848 0.98235925 0.97253917\n",
      " 0.96281726 0.95319254 0.94366403 0.93423077 0.92489181 0.9156462\n",
      " 0.90649302 0.89743134 0.88846024 0.87957882 0.87078618 0.86208144\n",
      " 0.85346372 0.84493214 0.83648584 0.82812398 0.81984571 0.81165019\n",
      " 0.80353659 0.7955041  0.78755191 0.77967922 0.77188522 0.76416913\n",
      " 0.75653018 0.74896759 0.7414806  0.73406845 0.7267304  0.7194657\n",
      " 0.71227363 0.70515344 0.69810444 0.69112589 0.68421711 0.67737739\n",
      " 0.67060604 0.66390238 0.65726573 0.65069542 0.6441908  0.63775119\n",
      " 0.63137596 0.62506446 0.61881605 0.61263011 0.606506   0.60044311\n",
      " 0.59444084 0.58849856 0.58261568 0.57679161 0.57102576 0.56531755\n",
      " 0.5596664  0.55407174 0.54853301 0.54304964 0.53762109 0.53224681\n",
      " 0.52692624 0.52165887 0.51644415 0.51128156 0.50617057 0.50111068\n",
      " 0.49610137 0.49114213 0.48623247 0.48137188 0.47655989 0.471796\n",
      " 0.46707973 0.4624106  0.45778815 0.45321191 0.44868142 0.44419621\n",
      " 0.43975584 0.43535986 0.43100782 0.42669928 0.42243382 0.41821099\n",
      " 0.41403038 0.40989156 0.40579411 0.40173763 0.39772169 0.3937459\n",
      " 0.38980985 0.38591314 0.3820554  0.37823621 0.3744552  0.37071199\n",
      " 0.3670062  0.36333745 0.35970538 0.35610961 0.35254979 0.34902556\n",
      " 0.34553655 0.34208242 0.33866283 0.33527741 0.33192584 0.32860777\n",
      " 0.32532287 0.3220708  0.31885125 0.31566388 0.31250837 0.30938441\n",
      " 0.30629167 0.30322985 0.30019864 0.29719773 0.29422681 0.2912856\n",
      " 0.28837379 0.28549108 0.28263719 0.27981183 0.27701472 0.27424556\n",
      " 0.27150409 0.26879002 0.26610308 0.263443   0.26080952 0.25820236\n",
      " 0.25562126 0.25306596 0.25053621 0.24803174 0.24555231 0.24309767\n",
      " 0.24066756 0.23826175 0.23587998 0.23352203 0.23118764 0.2288766\n",
      " 0.22658865 0.22432357 0.22208114 0.21986113 0.2176633  0.21548745\n",
      " 0.21333335 0.21120078 0.20908952 0.20699938 0.20493012 0.20288156\n",
      " 0.20085347 0.19884565 0.19685791 0.19489003 0.19294183 0.1910131\n",
      " 0.18910366 0.1872133  0.18534184 0.18348908 0.18165485 0.17983895\n",
      " 0.1780412  0.17626143 0.17449945 0.17275508 0.17102814 0.16931848\n",
      " 0.1676259  0.16595024 0.16429133 0.16264901 0.1610231  0.15941344\n",
      " 0.15781988 0.15624225 0.15468038 0.15313413 0.15160334 0.15008785\n",
      " 0.14858751 0.14710217 0.14563167 0.14417588 0.14273463 0.1413078\n",
      " 0.13989523 0.13849677 0.1371123  0.13574167 0.13438474 0.13304137\n",
      " 0.13171144 0.13039479 0.12909131 0.12780086 0.12652331 0.12525853\n",
      " 0.12400639 0.12276677 0.12153955 0.12032459 0.11912177 0.11793098\n",
      " 0.11675209 0.11558499 0.11442955 0.11328567 0.11215322 0.11103209\n",
      " 0.10992216 0.10882333 0.10773549 0.10665852 0.10559232 0.10453677\n",
      " 0.10349178 0.10245723 0.10143303 0.10041906 0.09941523 0.09842143\n",
      " 0.09743757 0.09646354 0.09549925 0.0945446  0.09359949 0.09266384\n",
      " 0.09173753 0.09082048 0.0899126  0.0890138  0.08812398 0.08724306\n",
      " 0.08637094 0.08550754 0.08465277 0.08380655 0.08296878 0.08213939\n",
      " 0.08131829 0.0805054  0.07970064 0.07890392 0.07811516 0.07733429\n",
      " 0.07656122 0.07579588 0.0750382  0.07428808 0.07354547 0.07281028\n",
      " 0.07208244 0.07136187 0.07064851 0.06994228 0.06924311 0.06855092\n",
      " 0.06786566 0.06718725 0.06651561 0.0658507  0.06519242 0.06454073\n",
      " 0.06389556 0.06325683 0.06262449 0.06199847 0.06137871 0.06076514\n",
      " 0.0601577  0.05955634 0.05896099 0.05837159 0.05778809 0.05721041\n",
      " 0.05663851 0.05607233 0.05551181 0.05495689 0.05440752 0.05386364\n",
      " 0.05332519 0.05279213 0.0522644  0.05174195 0.05122471 0.05071265\n",
      " 0.0502057  0.04970383 0.04920697 0.04871507 0.0482281  0.04774599\n",
      " 0.0472687  0.04679618 0.04632839 0.04586527 0.04540678 0.04495288\n",
      " 0.04450351 0.04405863 0.0436182  0.04318218 0.04275051 0.04232316\n",
      " 0.04190008 0.04148123 0.04106656 0.04065605 0.04024963 0.03984728\n",
      " 0.03944895 0.0390546  0.03866419 0.03827769 0.03789505 0.03751624\n",
      " 0.03714121 0.03676993 0.03640236 0.03603847 0.03567821 0.03532156\n",
      " 0.03496847 0.03461891 0.03427285 0.03393024 0.03359106]\n"
     ]
    },
    {
     "name": "stderr",
     "output_type": "stream",
     "text": [
      "C:\\Users\\Acer\\Anaconda3\\lib\\site-packages\\ipykernel_launcher.py:7: RuntimeWarning: divide by zero encountered in true_divide\n",
      "  import sys\n",
      "C:\\Users\\Acer\\Anaconda3\\lib\\site-packages\\ipykernel_launcher.py:12: RuntimeWarning: invalid value encountered in true_divide\n",
      "  if sys.path[0] == '':\n",
      "C:\\Users\\Acer\\Anaconda3\\lib\\site-packages\\ipykernel_launcher.py:13: RuntimeWarning: invalid value encountered in true_divide\n",
      "  del sys.path[0]\n",
      "C:\\Users\\Acer\\Anaconda3\\lib\\site-packages\\ipykernel_launcher.py:14: RuntimeWarning: invalid value encountered in true_divide\n",
      "  \n"
     ]
    },
    {
     "data": {
      "text/plain": [
       "[<matplotlib.lines.Line2D at 0x1cd429234a8>]"
      ]
     },
     "execution_count": 112,
     "metadata": {},
     "output_type": "execute_result"
    },
    {
     "data": {
      "image/png": "[encoded data removed]",
      "text/plain": [
       "<Figure size 432x288 with 1 Axes>"
      ]
     },
     "metadata": {
      "needs_background": "light"
     },
     "output_type": "display_data"
    }
   ],
   "source": [
    "initial = [dRb0, Rb0]\n",
    "limits = np.linspace(xi_0,xi_max,np.int(steps)) #(START,END,NUMBER OF STEPS BETWEEN LIMITS)\n",
    "sol = odeint(model, initial, limits) #(func,initial,t)\n",
    "print(sol[:,0])\n",
    "print(sol[:,1])\n",
    "plt.plot(limits, sol[:,1])\n",
    "plt.ylabel('XI')\n",
    "plt.xlabel('rb')\n",
    "plt.plot(limits, sol[:,1])\n",
    "#plt.gca().invert_yaxis()"
   ]
  },
  {
   "cell_type": "code",
   "execution_count": 18,
   "metadata": {},
   "outputs": [],
   "source": [
    "def test():\n",
    "    arg['Delta'] = 7"
   ]
  },
  {
   "cell_type": "code",
   "execution_count": 65,
   "metadata": {},
   "outputs": [
    {
     "ename": "TypeError",
     "evalue": "cannot unpack non-iterable int object",
     "output_type": "error",
     "traceback": [
      "\u001b[1;31m---------------------------------------------------------------------------\u001b[0m",
      "\u001b[1;31mTypeError\u001b[0m                                 Traceback (most recent call last)",
      "\u001b[1;32m<ipython-input-65-0d9314ba421c>\u001b[0m in \u001b[0;36m<module>\u001b[1;34m\u001b[0m\n\u001b[1;32m----> 1\u001b[1;33m \u001b[0mRHS\u001b[0m\u001b[1;33m(\u001b[0m\u001b[0mnp\u001b[0m\u001b[1;33m.\u001b[0m\u001b[0mlinspace\u001b[0m\u001b[1;33m(\u001b[0m\u001b[1;36m1\u001b[0m\u001b[1;33m,\u001b[0m\u001b[1;36m10\u001b[0m\u001b[1;33m)\u001b[0m\u001b[1;33m,\u001b[0m\u001b[1;36m5\u001b[0m\u001b[1;33m)\u001b[0m\u001b[1;33m\u001b[0m\u001b[1;33m\u001b[0m\u001b[0m\n\u001b[0m",
      "\u001b[1;32m<ipython-input-61-9e123f8c2040>\u001b[0m in \u001b[0;36mRHS\u001b[1;34m(rb, t)\u001b[0m\n\u001b[0;32m     24\u001b[0m     \u001b[0mLambda\u001b[0m \u001b[1;33m=\u001b[0m \u001b[1;36m0\u001b[0m\u001b[1;33m\u001b[0m\u001b[1;33m\u001b[0m\u001b[0m\n\u001b[0;32m     25\u001b[0m \u001b[1;33m\u001b[0m\u001b[0m\n\u001b[1;32m---> 26\u001b[1;33m     \u001b[0mdrb\u001b[0m\u001b[1;33m,\u001b[0m \u001b[0msub\u001b[0m \u001b[1;33m=\u001b[0m \u001b[0mrb\u001b[0m \u001b[1;31m# this is where the 2 first order odes are stored\u001b[0m\u001b[1;33m\u001b[0m\u001b[1;33m\u001b[0m\u001b[0m\n\u001b[0m\u001b[0;32m     27\u001b[0m     \u001b[0mderivitive\u001b[0m \u001b[1;33m=\u001b[0m \u001b[1;33m[\u001b[0m\u001b[0msub\u001b[0m\u001b[1;33m,\u001b[0m \u001b[1;33m(\u001b[0m\u001b[0mLambda\u001b[0m \u001b[1;33m-\u001b[0m \u001b[0mB\u001b[0m \u001b[1;33m*\u001b[0m \u001b[0msub\u001b[0m\u001b[1;33m**\u001b[0m\u001b[1;36m2\u001b[0m \u001b[1;33m-\u001b[0m \u001b[0mC\u001b[0m\u001b[1;33m)\u001b[0m \u001b[1;33m/\u001b[0m \u001b[0mA\u001b[0m\u001b[1;33m]\u001b[0m\u001b[1;33m\u001b[0m\u001b[1;33m\u001b[0m\u001b[0m\n\u001b[0;32m     28\u001b[0m     \u001b[1;32mreturn\u001b[0m \u001b[0mderivitive\u001b[0m\u001b[1;33m\u001b[0m\u001b[1;33m\u001b[0m\u001b[0m\n",
      "\u001b[1;31mTypeError\u001b[0m: cannot unpack non-iterable int object"
     ]
    }
   ],
   "source": [
    "RHS(np.linspace(1,10),5)\n"
   ]
  },
  {
   "cell_type": "code",
   "execution_count": 43,
   "metadata": {},
   "outputs": [
    {
     "name": "stdout",
     "output_type": "stream",
     "text": [
      "[3, 4, 5, 6]\n",
      "[ 1  4  9 16 25 36 49 64 81]\n",
      "3.0\n",
      "[[2 4]\n",
      " [3 5]]\n",
      "[0, 0, 3, 0]\n",
      "1.2566370614359172\n",
      "1.7592918860102844\n",
      "5\n",
      "5\n"
     ]
    }
   ],
   "source": [
    "#test()\n",
    "a = [1,2,3,4,5,6,7,8,9]\n",
    "print(a[2:6])\n",
    "print(np.power(a,2))\n",
    "print(np.sqrt(a[-1]))\n",
    "b = [[2, 3],[4,5]]\n",
    "print(np.transpose(b))\n",
    "\n",
    "var = 5\n",
    "fun = [1,2,3,7]\n",
    "for i in fun:\n",
    "    if i < var:\n",
    "        fun[i] = 0\n",
    "        \n",
    "print(fun)\n",
    "print(arg['Delta'])\n",
    "print(arg['Rb'])\n",
    "y=[0,0]\n",
    "c=5.8\n",
    "d=5.2\n",
    "\n",
    "print(np.int(c))\n",
    "print(np.int(d))"
   ]
  },
  {
   "cell_type": "code",
   "execution_count": null,
   "metadata": {},
   "outputs": [],
   "source": []
  },
  {
   "cell_type": "code",
   "execution_count": null,
   "metadata": {},
   "outputs": [],
   "source": []
  }
 ],
 "metadata": {
  "kernelspec": {
   "display_name": "Python 3",
   "language": "python",
   "name": "python3"
  },
  "language_info": {
   "codemirror_mode": {
    "name": "ipython",
    "version": 3
   },
   "file_extension": ".py",
   "mimetype": "text/x-python",
   "name": "python",
   "nbconvert_exporter": "python",
   "pygments_lexer": "ipython3",
   "version": "3.7.1"
  }
 },
 "nbformat": 4,
 "nbformat_minor": 2
}
