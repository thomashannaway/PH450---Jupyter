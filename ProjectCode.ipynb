{
 "cells": [
  {
   "cell_type": "markdown",
   "metadata": {},
   "source": [
    "# Plan"
   ]
  },
  {
   "cell_type": "markdown",
   "metadata": {},
   "source": [
    "1. complete functions\n",
    "2. change variables in functions that are found in 'arg =' file\n",
    "3. improve readablilty (add spaces between maths)\n",
    "4. understand ode from matlab into python (see scipy from ph456 and online)"
   ]
  },
  {
   "cell_type": "markdown",
   "metadata": {},
   "source": [
    "# Imports"
   ]
  },
  {
   "cell_type": "code",
   "execution_count": 66,
   "metadata": {},
   "outputs": [],
   "source": [
    "import numpy as np\n",
    "import scipy.integrate\n",
    "from math import sqrt, pi, log\n",
    "from numpy import linalg as LA\n",
    "\n"
   ]
  },
  {
   "cell_type": "markdown",
   "metadata": {},
   "source": [
    "# Environment Set Up"
   ]
  },
  {
   "cell_type": "code",
   "execution_count": 53,
   "metadata": {},
   "outputs": [],
   "source": [
    "\n",
    "Delta = 0.2*2*pi #Delta is sheath width/thickness\n",
    "Rb    = 0.28*2*pi #rb is blowout radius\n",
    "dRb   = 0 # dRb is derivative of rb\n",
    "\n",
    "xi_0   = 0 # initial conditions for RHS\n",
    "xi_max = -2.25*Rb #max intrgration limits\n",
    "dxi    = -0.01 # integration steps\n",
    "\n",
    "xi_inj  = 0 #found in load_arg \n",
    "xi_tr   = 0 #found in load_arg / what is this?\n",
    "\n",
    "n     = 0 # found in load_arg / what is this?\n",
    "rc    = 0 #0.5*2*pi\n",
    "rB    = rc/2 # half of rc\n",
    "\n",
    "E_inj = 0   \n",
    "rhoC  = 0 \n",
    "dE    = 0 \n",
    "\n",
    "gammaB = 10000\n",
    "epsB   = 1/gammaB**2\n",
    "vB     = sqrt(1-epsB)\n",
    "\n",
    "lamb_fac = 0"
   ]
  },
  {
   "cell_type": "code",
   "execution_count": 54,
   "metadata": {
    "scrolled": true
   },
   "outputs": [],
   "source": [
    "arg = {'Delta': Delta, 'n' : n, 'rc' : rc, 'rhoC' : rhoC, 'Rb' : Rb, 'E_inj' : E_inj, \n",
    "       'dE': dE, 'xi_tr' : xi_tr, 'xi_inj' : xi_inj, 'lamb_fac' : lamb_fac }\n",
    "#arg['rhoC']\n",
    "#stores arguments in dictionary"
   ]
  },
  {
   "cell_type": "code",
   "execution_count": 55,
   "metadata": {},
   "outputs": [],
   "source": [
    "arg_part = {'Delta': Delta, 'n' : n, 'rc' : rc, 'rhoC' : rhoC, 'Rb' : Rb, 'E_inj' : E_inj, \n",
    "       'dE': dE, 'xi_tr' : xi_tr, 'xi_inj' : xi_inj, 'dt' : 0, 'En' : 0, 'L' : 0, 'vB' : 0}\n",
    "#stores arguments in dictionary"
   ]
  },
  {
   "cell_type": "markdown",
   "metadata": {},
   "source": [
    "# Key Functions"
   ]
  },
  {
   "cell_type": "code",
   "execution_count": 56,
   "metadata": {},
   "outputs": [],
   "source": [
    "def int_rho(r,arg):\n",
    "    if n == 0:\n",
    "        INT_RHO = rhoC * rc**2 / 2 + 1 * ((np.power(r, 2)) - rc**2) / 2  # what is rhoC ?\n",
    "    else:                                                                #check this equation's indexes\n",
    "        INT_RHO = rhoC * (np.power(rc, 2)) / 2 + (rhoC * Rb**n - rc**n) / \\\n",
    "        (Rb**n - rc**n) * (np.power(r,2)) / 2 + (1-rhoC)/(Rb**n - rc**n) * (np.power(r,(n+2)))/(n+2) - \\\n",
    "        (rhoC*Rb**n - rc**n) / (Rb**n - rc**n) * rc**2 / 2 + (1-rhoC) / (Rb**n - rc**n) *rc**(n+2)/(n+2)\n",
    "\n",
    "# conditional assignment INT_RHO(r<rc) = rhoC*r(r<rc).^2/2;\n",
    "#return INT_RHO\n",
    "\n"
   ]
  },
  {
   "cell_type": "code",
   "execution_count": 57,
   "metadata": {},
   "outputs": [],
   "source": [
    "def rho(r,arg):\n",
    "    \n",
    "    if n == 0:\n",
    "        RHO = np.ones(r)\n",
    "    else:\n",
    "        RHO = (Rb**n - (np.power(r, n))) * rhoC / (Rb**n - rc**n) + ((np.power(r, n)) - rc**n) / (Rb**n - rc**n)\n",
    "        \n",
    "#end func\n",
    "#conditional assignment\n",
    "#RHO(r<rc) = rhoC; for every element r<rc set equal to rhoC?"
   ]
  },
  {
   "cell_type": "code",
   "execution_count": 58,
   "metadata": {},
   "outputs": [],
   "source": [
    "def give_arg(): # maybe don't need this or give_arg_part as dictionary is already created\n",
    "    arg['n']      = n # order of transverse plasma profile\n",
    "    arg['rc']     = rc # \n",
    "    arg['rhoC']   = rhoC #\n",
    "    arg['Rb']     = Rb \n",
    "    arg['E_inj']  = E_inj\n",
    "    arg['dE']     = dE\n",
    "    arg['xi_tr']  = xi_tr\n",
    "    arg['xi_inj'] = xi_inj\n",
    "    arg['Delta']  = Delta #sheath width\n",
    "    return arg"
   ]
  },
  {
   "cell_type": "code",
   "execution_count": 59,
   "metadata": {},
   "outputs": [],
   "source": [
    "def drho(r):\n",
    "    #drho~nr^(n-1) | drho(r<rc)=0\n",
    "\n",
    "    if arg['n'] == 0:\n",
    "        DRHO = np.zeros(r.shape)\n",
    "        \n",
    "    elif:        \n",
    "   #     DRHO = (0 - n * np.power(r, n-1)) * arg['rhoC'] / (arg['Rb']**n - rc**n) + (n * np.power(r, n-1) - 0) / (Rb**n - rc**n)    \n",
    "    \n",
    "    # conditional assignment here\n",
    "    else r<rc:\n",
    "        DHR0=....\n",
    "    \n",
    "    return DRHO\n"
   ]
  },
  {
   "cell_type": "code",
   "execution_count": 60,
   "metadata": {},
   "outputs": [],
   "source": [
    "def RHS(xi,R0,arg):\n",
    "    drb  = R0[0]\n",
    "    rb   = R0[1]\n",
    "    dsi = drho(rb,arg)\n",
    "    si = rho(rb,arg)\n",
    "    SI = int_rho(rb,arg)\n",
    "\n",
    "    eps = arg['Delta']/rb\n",
    "    X = 1 +eps\n",
    "    dX = -(X-1)**2/Delta\n",
    "    ddX = -2*(X-1)*dX/Delta\n",
    "\n",
    "    delta = X**2/(X**2-1)\n",
    "    ddelta = -2*X*dX/(X**2-1)**2\n",
    "    dddelta = -2 * dX**2 / (X**2-1)**2 -2*X*ddX/(X**2-1)**2 +8*X**2*dX**2/(X**2-1)**3\n",
    "\n",
    "    beta = 2*delta*log(X) -1\n",
    "    dbeta = 2*ddelta*log(X) +2*delta*dX/X\n",
    "    ddbeta = 2*dddelta*log(X) +4*ddelta*dX/X -2*delta*dX**2/X**2 +2*delta*ddX/X\n",
    "\n",
    "    A = (1 +SI/2)*rb +(si*rb**2/4 +SI/2)*rb*beta +SI*rb**2/4*dbeta\n",
    "    B = si*rb**2/2 +(3*si*rb +dsi*rb**2)*rb*beta/4 +(SI +si*rb**2)*rb*dbeta/2 +SI*rb**2*ddbeta/4\n",
    "    C = SI/2*(1 +1/(1 +SI*beta/2)**2)\n",
    "\n",
    "\n",
    "#% A = SI*rb/2\n",
    "#% B = si*rb**2/2\n",
    "#% C = SI/2\n",
    "\n",
    "    if lamb_fac == 1 and xi <= xi_inj and xi >= xi_tr:\n",
    "        Lambda = SI/2 +E_inj**2*rb**2/(2*SI)\n",
    "    elif lamb_fac == 2 and xi <= xi_inj and xi >= xi_tr:\n",
    "        Lambda = SI/2 +(dE*xi -dE*xi_inj -E_inj)**2*rb**2/(2*SI) +dE*(dE*xi -dE*xi_inj -E_inj)*rb**3/(2*sqrt(2*F(rb,Rb,arg)))\n",
    "    elif lamb_fac == 3 and xi >= xi_inj and xi <= xi_tr:    \n",
    "        Lambda = SI/2 +(dE*xi -dE*xi_inj +E_inj)**2*rb**2/(2*SI) -dE*(dE*xi -dE*xi_inj +E_inj)*rb**3/(2*sqrt(2*F(rb,Rb,arg)))\n",
    "    else:\n",
    "        Lambda = 0\n",
    "\n",
    "        dR0    = np.zeros(2,1,dtype = int)\n",
    "        dR0[1] = drb\n",
    "        dR0[0] = ( Lambda -B*drb**2 -C ) /A\n",
    "        "
   ]
  },
  {
   "cell_type": "markdown",
   "metadata": {},
   "source": [
    "# Main Codeflow"
   ]
  },
  {
   "cell_type": "code",
   "execution_count": 61,
   "metadata": {},
   "outputs": [],
   "source": [
    "def test():\n",
    "    arg['Delta'] = 7"
   ]
  },
  {
   "cell_type": "code",
   "execution_count": 62,
   "metadata": {},
   "outputs": [
    {
     "data": {
      "text/plain": [
       "1.2566370614359172"
      ]
     },
     "execution_count": 62,
     "metadata": {},
     "output_type": "execute_result"
    }
   ],
   "source": [
    "arg['Delta']"
   ]
  },
  {
   "cell_type": "code",
   "execution_count": 64,
   "metadata": {},
   "outputs": [],
   "source": [
    "test()"
   ]
  },
  {
   "cell_type": "code",
   "execution_count": 71,
   "metadata": {},
   "outputs": [
    {
     "ename": "NameError",
     "evalue": "name 'xi' is not defined",
     "output_type": "error",
     "traceback": [
      "\u001b[1;31m---------------------------------------------------------------------------\u001b[0m",
      "\u001b[1;31mNameError\u001b[0m                                 Traceback (most recent call last)",
      "\u001b[1;32m<ipython-input-71-12bcd521e259>\u001b[0m in \u001b[0;36m<module>\u001b[1;34m()\u001b[0m\n\u001b[0;32m      1\u001b[0m \u001b[0mtest\u001b[0m \u001b[1;33m=\u001b[0m \u001b[1;33m[\u001b[0m\u001b[0mdRb\u001b[0m\u001b[1;33m,\u001b[0m \u001b[0mRb\u001b[0m\u001b[1;33m]\u001b[0m\u001b[1;33m\u001b[0m\u001b[0m\n\u001b[1;32m----> 2\u001b[1;33m \u001b[1;33m[\u001b[0m\u001b[0mXI0\u001b[0m\u001b[1;33m,\u001b[0m\u001b[0mR\u001b[0m\u001b[1;33m]\u001b[0m \u001b[1;33m=\u001b[0m \u001b[0mscipy\u001b[0m\u001b[1;33m.\u001b[0m\u001b[0mintegrate\u001b[0m\u001b[1;33m.\u001b[0m\u001b[0msolve_ivp\u001b[0m\u001b[1;33m(\u001b[0m\u001b[0mRHS\u001b[0m\u001b[1;33m(\u001b[0m\u001b[0mxi\u001b[0m\u001b[1;33m,\u001b[0m\u001b[0mrb\u001b[0m\u001b[1;33m,\u001b[0m\u001b[0marg\u001b[0m\u001b[1;33m)\u001b[0m\u001b[1;33m,\u001b[0m \u001b[1;33m[\u001b[0m\u001b[0mxi_0\u001b[0m\u001b[1;33m,\u001b[0m\u001b[0mdxi\u001b[0m\u001b[1;33m,\u001b[0m\u001b[0mxi_max\u001b[0m\u001b[1;33m]\u001b[0m\u001b[1;33m,\u001b[0m \u001b[0mtest\u001b[0m\u001b[1;33m,\u001b[0m \u001b[0moptions\u001b[0m\u001b[1;33m)\u001b[0m\u001b[1;33m\u001b[0m\u001b[0m\n\u001b[0m",
      "\u001b[1;31mNameError\u001b[0m: name 'xi' is not defined"
     ]
    }
   ],
   "source": [
    "test = [dRb, Rb]\n",
    "[XI0,R] = scipy.integrate.solve_ivp(RHS(xi,rb,arg), [xi_0,dxi,xi_max], test, options)"
   ]
  }
 ],
 "metadata": {
  "kernelspec": {
   "display_name": "Python 3",
   "language": "python",
   "name": "python3"
  },
  "language_info": {
   "codemirror_mode": {
    "name": "ipython",
    "version": 3
   },
   "file_extension": ".py",
   "mimetype": "text/x-python",
   "name": "python",
   "nbconvert_exporter": "python",
   "pygments_lexer": "ipython3",
   "version": "3.7.0"
  }
 },
 "nbformat": 4,
 "nbformat_minor": 2
}
