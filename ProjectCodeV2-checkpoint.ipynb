{
 "cells": [
  {
   "cell_type": "markdown",
   "metadata": {},
   "source": [
    "# Plan"
   ]
  },
  {
   "cell_type": "markdown",
   "metadata": {},
   "source": [
    "1. complete functions - TO COMPLETE\n",
    "2. change variables in functions that are found in 'arg =' file - DONE\n",
    "3. improve readablilty (add spaces between maths) - DONE\n",
    "4. write solver to solve odes.  -TO COMPLETE "
   ]
  },
  {
   "cell_type": "markdown",
   "metadata": {},
   "source": [
    "# Imports"
   ]
  },
  {
   "cell_type": "code",
   "execution_count": 2,
   "metadata": {},
   "outputs": [],
   "source": [
    "import numpy as np\n",
    "from scipy.integrate import odeint\n",
    "#from math import sqrt, pi, log\n",
    "from numpy import linalg as LA\n",
    "import matplotlib.pyplot as plt\n",
    "\n"
   ]
  },
  {
   "cell_type": "markdown",
   "metadata": {},
   "source": [
    "# Environment Set Up"
   ]
  },
  {
   "cell_type": "code",
   "execution_count": 3,
   "metadata": {},
   "outputs": [
    {
     "name": "stdout",
     "output_type": "stream",
     "text": [
      "747.6990515543708\n"
     ]
    }
   ],
   "source": [
    "\n",
    "Delta = 0.2*2*np.pi #Delta is sheath width/thickness\n",
    "Rb0    = 0.28*2*np.pi #initial conditions\n",
    "dRb0   = 0 # \n",
    "\n",
    "xi_0   = 0*Rb0 # initial conditions for RHS\n",
    "xi_max = 4.25*Rb0 #max intrgration limits\n",
    "dxi = 0.01 # size of integration steps\n",
    "steps = np.abs(xi_max/dxi) # number of steps needed to achieve dxi \n",
    "print(steps)\n",
    "xi_inj  = 0 #found in load_arg \n",
    "xi_tr   = 0 #found in load_arg / what is this?\n",
    "\n",
    "n     = 0 # found in load_arg / what is this?\n",
    "rc    = 0 #0.5*2*pi\n",
    "rB    = rc/2 # half of rc\n",
    "\n",
    "E_inj = 0   \n",
    "rhoC  = 0 \n",
    "dE    = 0 \n",
    "\n",
    "gammaB = 10000\n",
    "epsB   = 1/gammaB**2\n",
    "vB     = np.sqrt(1-epsB)\n",
    "\n",
    "lamb_fac = 0"
   ]
  },
  {
   "cell_type": "code",
   "execution_count": 13,
   "metadata": {
    "scrolled": true
   },
   "outputs": [],
   "source": [
    "arg = {'Delta': Delta, 'n' : n, 'rc' : rc, 'rhoC' : rhoC, 'Rb0' : Rb0, 'E_inj' : E_inj, \n",
    "       'dE': dE, 'xi_tr' : xi_tr, 'xi_inj' : xi_inj, 'lamb_fac' : lamb_fac }\n",
    "#arg['rhoC']\n",
    "#stores arguments in dictionary"
   ]
  },
  {
   "cell_type": "code",
   "execution_count": 14,
   "metadata": {},
   "outputs": [
    {
     "ename": "NameError",
     "evalue": "name 'Rb' is not defined",
     "output_type": "error",
     "traceback": [
      "\u001b[1;31m---------------------------------------------------------------------------\u001b[0m",
      "\u001b[1;31mNameError\u001b[0m                                 Traceback (most recent call last)",
      "\u001b[1;32m<ipython-input-14-225335ac44b7>\u001b[0m in \u001b[0;36m<module>\u001b[1;34m\u001b[0m\n\u001b[1;32m----> 1\u001b[1;33m arg_part = {'Delta': Delta, 'n' : n, 'rc' : rc, 'rhoC' : rhoC, 'Rb' : Rb, 'E_inj' : E_inj, \n\u001b[0m\u001b[0;32m      2\u001b[0m        'dE': dE, 'xi_tr' : xi_tr, 'xi_inj' : xi_inj, 'dt' : 0, 'En' : 0, 'L' : 0, 'vB' : 0}\n\u001b[0;32m      3\u001b[0m \u001b[1;31m#stores arguments in dictionary\u001b[0m\u001b[1;33m\u001b[0m\u001b[1;33m\u001b[0m\u001b[1;33m\u001b[0m\u001b[0m\n",
      "\u001b[1;31mNameError\u001b[0m: name 'Rb' is not defined"
     ]
    }
   ],
   "source": [
    "arg_part = {'Delta': Delta, 'n' : n, 'rc' : rc, 'rhoC' : rhoC, 'Rb' : Rb, 'E_inj' : E_inj, \n",
    "       'dE': dE, 'xi_tr' : xi_tr, 'xi_inj' : xi_inj, 'dt' : 0, 'En' : 0, 'L' : 0, 'vB' : 0}\n",
    "#stores arguments in dictionary"
   ]
  },
  {
   "cell_type": "markdown",
   "metadata": {},
   "source": [
    "# Key Functions"
   ]
  },
  {
   "cell_type": "code",
   "execution_count": 15,
   "metadata": {},
   "outputs": [],
   "source": [
    "def int_rho(r,arg):\n",
    "        INT_RHO = arg['rhoC'] * arg['rc']**2 / 2 + 1 * ((np.power(r, 2)) - arg['rc']**2) / 2  # what is rhoC ?\n",
    "\n",
    "#Conditional assignment in python (boolean)\n",
    "#What is inside INT_RHO?\n",
    "#    if INT_RHO(r<rc):\n",
    "#INT_RHO(r<rc) = rhoC *r(r<rc)**2 / 2\n",
    "#INT_RHO(r<rc) = rhoC*r(r<rc).^2/2;\n",
    "#return INT_RHO\n",
    "#for i in INT_RHO:\n",
    "#   if r<rc:\n",
    "#        INT_RHO = rhoC * r(r<rc).^2/2\n"
   ]
  },
  {
   "cell_type": "code",
   "execution_count": 16,
   "metadata": {},
   "outputs": [],
   "source": [
    "def rho(r,arg):\n",
    "        RHO = np.ones(r)\n",
    "        \n",
    "#end func\n",
    "#conditional assignment\n",
    "#RHO(r<rc) = rhoC; for every element r<rc set equal to rhoC? "
   ]
  },
  {
   "cell_type": "code",
   "execution_count": 17,
   "metadata": {},
   "outputs": [
    {
     "data": {
      "text/plain": [
       "\"   \\nfor i in DRHO:\\n    if r < arg['rc']:\\n        DRHO[i] = 0\\nprint(DRHO)\\n    # conditional assignment here\\n    #else r<arg['rc']:\\n    #    DHR0=....\\n    \\n    #return DRHO\\n\""
      ]
     },
     "execution_count": 17,
     "metadata": {},
     "output_type": "execute_result"
    }
   ],
   "source": [
    "def drho(r):\n",
    "    #drho~nr^(n-1) | drho(r<rc)=0\n",
    "    DRHO = np.zeros(r.shape)   \n",
    "'''   \n",
    "for i in DRHO:\n",
    "    if r < arg['rc']:\n",
    "        DRHO[i] = 0\n",
    "print(DRHO)\n",
    "    # conditional assignment here\n",
    "    #else r<arg['rc']:\n",
    "    #    DHR0=....\n",
    "    \n",
    "    #return DRHO\n",
    "'''"
   ]
  },
  {
   "cell_type": "code",
   "execution_count": 18,
   "metadata": {},
   "outputs": [],
   "source": [
    "#function dY = RHS_particle(t,Y0,arg_part)\n",
    "def dY(t,y0,arg_part):\n",
    "    xi = Y0[0] \n",
    "    y = Y0[1]\n",
    "    z = Y0[2]\n",
    "\n",
    "    p0 = Y0[3:7] #select 3rd to 6th element\n",
    "    gamma = np.sqrt(1+ np.linalg.norm(p0)**2)\n",
    "\n",
    "    #arg_part = {'Delta': Delta, 'n' : n, 'rc' : rc, 'rhoC' : rhoC, 'Rb' : Rb, 'E_inj' : E_inj, \n",
    "     #  'dE': dE, 'xi_tr' : xi_tr, 'xi_inj' : xi_inj, 'dt' : 0, 'En' : 0, 'L' : 0, 'vB' : 0}\n",
    "#load_arg_part\n",
    "\n",
    "    E[0] = arg_part['En']*xi*(1-xi/c)**(-1/3)\n",
    "    B[0] = 0\n",
    "    B[1] =  arg_part['En']*z/2*(1-xi/arg_part['L'])**(-1/3)*(3*arg_part['L'] -2*xi)/(3*arg_part['L'] -3*xi)\n",
    "    B[2] = -arg_part['En']*y/2*(1-xi/arg_part['L'])**(-1/3)*(3*arg_part['L'] -2*xi)/(3*arg_part['L'] -3*xi)\n",
    "    E[3] = y/2 +B[2]\n",
    "    E[4] = z/2 -B[1]\n",
    "\n",
    "#transpose operator (see end of matrix) produces a complex-conjugate transpose for complex numbers.\n",
    "    \n",
    "    dr = p0/gamma - arg_part['vB']*np.transpose([1, 0, 0]) #row vector (100) transposed, so now col vec.\n",
    "    dp = -np.transpose(E) - 1 / gamma * np.cross(p0,np.transpose(B))\n",
    "\n",
    "    dY[0:2,0] = dr\n",
    "    dY[3:5,0] = dp #%the coloumn vector of 4th to 6th element in 1st coloumn"
   ]
  },
  {
   "cell_type": "code",
   "execution_count": 6,
   "metadata": {
    "scrolled": false
   },
   "outputs": [],
   "source": [
    "def model(Rb, xi):\n",
    "    \n",
    "    drb = Rb[0]\n",
    "    rb = Rb[1]\n",
    "    \n",
    "    dsi = 1\n",
    "    si = 1\n",
    "    SI = 1\n",
    "    \n",
    "    eps = arg['Delta']/rb #eq5\n",
    "    X = 1 + eps #used in eq 12 + 13\n",
    "    dX = -(X-1)**2 / arg['Delta'] #for use in eq 33\n",
    "    ddX = -2*(X-1) * dX / arg['Delta'] #for use in eq 33\n",
    "\n",
    "    delta = X**2/(X**2 - 1)\n",
    "    ddelta = -2*X*dX/(X**2-1)**2\n",
    "    dddelta = -2 * dX**2 / (X**2-1)**2 -2*X*ddX/(X**2-1)**2 +8*X**2*dX**2/(X**2-1)**3\n",
    "\n",
    "    beta = 2*delta*np.log(X) -1\n",
    "    dbeta = 2*ddelta*np.log(X) +2*delta*dX/X\n",
    "    ddbeta = 2*dddelta*np.log(X) +4*ddelta*dX/X -2*delta*dX**2/X**2 +2*delta*ddX/X\n",
    "\n",
    "    A = (1 +SI/2)*rb +(si*rb**2/4 +SI/2)*rb*beta +SI*rb**2/4*dbeta\n",
    "    B = si*rb**2/2 +(3*si*rb +dsi*rb**2)*rb*beta/4 +(SI +si*rb**2)*rb*dbeta/2 +SI*rb**2*ddbeta/4\n",
    "    C = SI/2*(1 +1/(1 +SI*beta/2)**2)\n",
    "\n",
    "    Lambda = 0\n",
    "    \n",
    "    #SUB = 0 #\n",
    "    dRdxi = (Lambda - B * (drb)**2 - C) / A\n",
    "    #SUB, DSUB = rb\n",
    "    derivatives = [drb,dRdxi]\n",
    "    return derivatives"
   ]
  },
  {
   "cell_type": "markdown",
   "metadata": {},
   "source": [
    "# Main Codeflow"
   ]
  },
  {
   "cell_type": "code",
   "execution_count": 7,
   "metadata": {},
   "outputs": [
    {
     "ename": "NameError",
     "evalue": "name 'arg' is not defined",
     "output_type": "error",
     "traceback": [
      "\u001b[1;31m---------------------------------------------------------------------------\u001b[0m",
      "\u001b[1;31mNameError\u001b[0m                                 Traceback (most recent call last)",
      "\u001b[1;32m<ipython-input-7-ebcfbd99914c>\u001b[0m in \u001b[0;36m<module>\u001b[1;34m\u001b[0m\n\u001b[0;32m      1\u001b[0m \u001b[0minitial\u001b[0m \u001b[1;33m=\u001b[0m \u001b[1;33m[\u001b[0m\u001b[0mdRb0\u001b[0m\u001b[1;33m,\u001b[0m \u001b[0mRb0\u001b[0m\u001b[1;33m]\u001b[0m\u001b[1;33m\u001b[0m\u001b[1;33m\u001b[0m\u001b[0m\n\u001b[0;32m      2\u001b[0m \u001b[0mlimits\u001b[0m \u001b[1;33m=\u001b[0m \u001b[0mnp\u001b[0m\u001b[1;33m.\u001b[0m\u001b[0mlinspace\u001b[0m\u001b[1;33m(\u001b[0m\u001b[0mxi_0\u001b[0m\u001b[1;33m,\u001b[0m\u001b[0mxi_max\u001b[0m\u001b[1;33m,\u001b[0m\u001b[0mnp\u001b[0m\u001b[1;33m.\u001b[0m\u001b[0mint\u001b[0m\u001b[1;33m(\u001b[0m\u001b[0msteps\u001b[0m\u001b[1;33m)\u001b[0m\u001b[1;33m)\u001b[0m \u001b[1;31m#(START,END,NUMBER OF STEPS BETWEEN LIMITS)\u001b[0m\u001b[1;33m\u001b[0m\u001b[1;33m\u001b[0m\u001b[0m\n\u001b[1;32m----> 3\u001b[1;33m \u001b[0msol\u001b[0m \u001b[1;33m=\u001b[0m \u001b[0modeint\u001b[0m\u001b[1;33m(\u001b[0m\u001b[0mmodel\u001b[0m\u001b[1;33m,\u001b[0m \u001b[0minitial\u001b[0m\u001b[1;33m,\u001b[0m \u001b[0mlimits\u001b[0m\u001b[1;33m)\u001b[0m \u001b[1;31m#(func,initial,t)\u001b[0m\u001b[1;33m\u001b[0m\u001b[1;33m\u001b[0m\u001b[0m\n\u001b[0m\u001b[0;32m      4\u001b[0m \u001b[0mplt\u001b[0m\u001b[1;33m.\u001b[0m\u001b[0mplot\u001b[0m\u001b[1;33m(\u001b[0m\u001b[0msol\u001b[0m\u001b[1;33m[\u001b[0m\u001b[1;33m:\u001b[0m\u001b[1;33m,\u001b[0m\u001b[1;36m1\u001b[0m\u001b[1;33m]\u001b[0m\u001b[1;33m,\u001b[0m\u001b[0mlimits\u001b[0m\u001b[1;33m)\u001b[0m \u001b[1;31m#(X AXIS, Y AXIS)\u001b[0m\u001b[1;33m\u001b[0m\u001b[1;33m\u001b[0m\u001b[0m\n\u001b[0;32m      5\u001b[0m \u001b[0mplt\u001b[0m\u001b[1;33m.\u001b[0m\u001b[0mylabel\u001b[0m\u001b[1;33m(\u001b[0m\u001b[1;34m'rb'\u001b[0m\u001b[1;33m)\u001b[0m\u001b[1;33m\u001b[0m\u001b[1;33m\u001b[0m\u001b[0m\n",
      "\u001b[1;32m~\\Anaconda3\\lib\\site-packages\\scipy\\integrate\\odepack.py\u001b[0m in \u001b[0;36modeint\u001b[1;34m(func, y0, t, args, Dfun, col_deriv, full_output, ml, mu, rtol, atol, tcrit, h0, hmax, hmin, ixpr, mxstep, mxhnil, mxordn, mxords, printmessg, tfirst)\u001b[0m\n\u001b[0;32m    231\u001b[0m                              \u001b[0mfull_output\u001b[0m\u001b[1;33m,\u001b[0m \u001b[0mrtol\u001b[0m\u001b[1;33m,\u001b[0m \u001b[0matol\u001b[0m\u001b[1;33m,\u001b[0m \u001b[0mtcrit\u001b[0m\u001b[1;33m,\u001b[0m \u001b[0mh0\u001b[0m\u001b[1;33m,\u001b[0m \u001b[0mhmax\u001b[0m\u001b[1;33m,\u001b[0m \u001b[0mhmin\u001b[0m\u001b[1;33m,\u001b[0m\u001b[1;33m\u001b[0m\u001b[1;33m\u001b[0m\u001b[0m\n\u001b[0;32m    232\u001b[0m                              \u001b[0mixpr\u001b[0m\u001b[1;33m,\u001b[0m \u001b[0mmxstep\u001b[0m\u001b[1;33m,\u001b[0m \u001b[0mmxhnil\u001b[0m\u001b[1;33m,\u001b[0m \u001b[0mmxordn\u001b[0m\u001b[1;33m,\u001b[0m \u001b[0mmxords\u001b[0m\u001b[1;33m,\u001b[0m\u001b[1;33m\u001b[0m\u001b[1;33m\u001b[0m\u001b[0m\n\u001b[1;32m--> 233\u001b[1;33m                              int(bool(tfirst)))\n\u001b[0m\u001b[0;32m    234\u001b[0m     \u001b[1;32mif\u001b[0m \u001b[0moutput\u001b[0m\u001b[1;33m[\u001b[0m\u001b[1;33m-\u001b[0m\u001b[1;36m1\u001b[0m\u001b[1;33m]\u001b[0m \u001b[1;33m<\u001b[0m \u001b[1;36m0\u001b[0m\u001b[1;33m:\u001b[0m\u001b[1;33m\u001b[0m\u001b[1;33m\u001b[0m\u001b[0m\n\u001b[0;32m    235\u001b[0m         \u001b[0mwarning_msg\u001b[0m \u001b[1;33m=\u001b[0m \u001b[0m_msgs\u001b[0m\u001b[1;33m[\u001b[0m\u001b[0moutput\u001b[0m\u001b[1;33m[\u001b[0m\u001b[1;33m-\u001b[0m\u001b[1;36m1\u001b[0m\u001b[1;33m]\u001b[0m\u001b[1;33m]\u001b[0m \u001b[1;33m+\u001b[0m \u001b[1;34m\" Run with full_output = 1 to get quantitative information.\"\u001b[0m\u001b[1;33m\u001b[0m\u001b[1;33m\u001b[0m\u001b[0m\n",
      "\u001b[1;32m<ipython-input-6-0bce5a7823b4>\u001b[0m in \u001b[0;36mmodel\u001b[1;34m(Rb, xi)\u001b[0m\n\u001b[0;32m      8\u001b[0m     \u001b[0mSI\u001b[0m \u001b[1;33m=\u001b[0m \u001b[1;36m1\u001b[0m\u001b[1;33m\u001b[0m\u001b[1;33m\u001b[0m\u001b[0m\n\u001b[0;32m      9\u001b[0m \u001b[1;33m\u001b[0m\u001b[0m\n\u001b[1;32m---> 10\u001b[1;33m     \u001b[0meps\u001b[0m \u001b[1;33m=\u001b[0m \u001b[0marg\u001b[0m\u001b[1;33m[\u001b[0m\u001b[1;34m'Delta'\u001b[0m\u001b[1;33m]\u001b[0m\u001b[1;33m/\u001b[0m\u001b[0mrb\u001b[0m \u001b[1;31m#eq5\u001b[0m\u001b[1;33m\u001b[0m\u001b[1;33m\u001b[0m\u001b[0m\n\u001b[0m\u001b[0;32m     11\u001b[0m     \u001b[0mX\u001b[0m \u001b[1;33m=\u001b[0m \u001b[1;36m1\u001b[0m \u001b[1;33m+\u001b[0m \u001b[0meps\u001b[0m \u001b[1;31m#used in eq 12 + 13\u001b[0m\u001b[1;33m\u001b[0m\u001b[1;33m\u001b[0m\u001b[0m\n\u001b[0;32m     12\u001b[0m     \u001b[0mdX\u001b[0m \u001b[1;33m=\u001b[0m \u001b[1;33m-\u001b[0m\u001b[1;33m(\u001b[0m\u001b[0mX\u001b[0m\u001b[1;33m-\u001b[0m\u001b[1;36m1\u001b[0m\u001b[1;33m)\u001b[0m\u001b[1;33m**\u001b[0m\u001b[1;36m2\u001b[0m \u001b[1;33m/\u001b[0m \u001b[0marg\u001b[0m\u001b[1;33m[\u001b[0m\u001b[1;34m'Delta'\u001b[0m\u001b[1;33m]\u001b[0m \u001b[1;31m#for use in eq 33\u001b[0m\u001b[1;33m\u001b[0m\u001b[1;33m\u001b[0m\u001b[0m\n",
      "\u001b[1;31mNameError\u001b[0m: name 'arg' is not defined"
     ]
    }
   ],
   "source": [
    "initial = [dRb0, Rb0]\n",
    "limits = np.linspace(xi_0,xi_max,np.int(steps)) #(START,END,NUMBER OF STEPS BETWEEN LIMITS)\n",
    "sol = odeint(model, initial, limits) #(func,initial,t)\n",
    "plt.plot(sol[:,1],limits) #(X AXIS, Y AXIS)\n",
    "plt.ylabel('rb')\n",
    "plt.xlabel('xi')\n",
    "plt.gca().invert_xaxis()"
   ]
  },
  {
   "cell_type": "code",
   "execution_count": 21,
   "metadata": {},
   "outputs": [],
   "source": [
    "def test():\n",
    "    arg['Delta'] = 7"
   ]
  },
  {
   "cell_type": "code",
   "execution_count": 22,
   "metadata": {},
   "outputs": [
    {
     "ename": "NameError",
     "evalue": "name 'RHS' is not defined",
     "output_type": "error",
     "traceback": [
      "\u001b[1;31m---------------------------------------------------------------------------\u001b[0m",
      "\u001b[1;31mNameError\u001b[0m                                 Traceback (most recent call last)",
      "\u001b[1;32m<ipython-input-22-0d9314ba421c>\u001b[0m in \u001b[0;36m<module>\u001b[1;34m\u001b[0m\n\u001b[1;32m----> 1\u001b[1;33m \u001b[0mRHS\u001b[0m\u001b[1;33m(\u001b[0m\u001b[0mnp\u001b[0m\u001b[1;33m.\u001b[0m\u001b[0mlinspace\u001b[0m\u001b[1;33m(\u001b[0m\u001b[1;36m1\u001b[0m\u001b[1;33m,\u001b[0m\u001b[1;36m10\u001b[0m\u001b[1;33m)\u001b[0m\u001b[1;33m,\u001b[0m\u001b[1;36m5\u001b[0m\u001b[1;33m)\u001b[0m\u001b[1;33m\u001b[0m\u001b[1;33m\u001b[0m\u001b[0m\n\u001b[0m",
      "\u001b[1;31mNameError\u001b[0m: name 'RHS' is not defined"
     ]
    }
   ],
   "source": [
    "RHS(np.linspace(1,10),5)\n"
   ]
  },
  {
   "cell_type": "code",
   "execution_count": null,
   "metadata": {},
   "outputs": [],
   "source": [
    "#test()\n",
    "a = [1,2,3,4,5,6,7,8,9]\n",
    "print(a[2:6])\n",
    "print(np.power(a,2))\n",
    "print(np.sqrt(a[-1]))\n",
    "b = [[2, 3],[4,5]]\n",
    "print(np.transpose(b))\n",
    "\n",
    "var = 5\n",
    "fun = [1,2,3,7]\n",
    "for i in fun:\n",
    "    if i < var:\n",
    "        fun[i] = 0\n",
    "        \n",
    "print(fun)\n",
    "print(arg['Delta'])\n",
    "print(arg['Rb'])\n",
    "y=[0,0]\n",
    "c=5.8\n",
    "d=5.2\n",
    "\n",
    "print(np.int(c))\n",
    "print(np.int(d))"
   ]
  },
  {
   "cell_type": "code",
   "execution_count": null,
   "metadata": {},
   "outputs": [],
   "source": []
  },
  {
   "cell_type": "code",
   "execution_count": null,
   "metadata": {},
   "outputs": [],
   "source": []
  }
 ],
 "metadata": {
  "kernelspec": {
   "display_name": "Python 3",
   "language": "python",
   "name": "python3"
  },
  "language_info": {
   "codemirror_mode": {
    "name": "ipython",
    "version": 3
   },
   "file_extension": ".py",
   "mimetype": "text/x-python",
   "name": "python",
   "nbconvert_exporter": "python",
   "pygments_lexer": "ipython3",
   "version": "3.7.1"
  }
 },
 "nbformat": 4,
 "nbformat_minor": 2
}
